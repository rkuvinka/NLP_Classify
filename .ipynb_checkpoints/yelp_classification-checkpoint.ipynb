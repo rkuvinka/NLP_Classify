{
 "cells": [
  {
   "cell_type": "markdown",
   "metadata": {},
   "source": [
    "<h3>Make Training and Dev Data</h3>"
   ]
  },
  {
   "cell_type": "code",
   "execution_count": 55,
   "metadata": {
    "collapsed": false
   },
   "outputs": [],
   "source": [
    "import random\n",
    "\n",
    "def csv_to_array(filename):\n",
    "    file = open(filename, 'r')\n",
    "    file_text = file.read()\n",
    "    # Get rid of the first three, which are examples\n",
    "    split_text = file_text.split('|')[3:]\n",
    "    i = 0\n",
    "    tuple_text = []\n",
    "    while i < len(split_text) - 1:\n",
    "        tuple_text.append((split_text[i+1], split_text[i], int(i/2)))\n",
    "        i += 2\n",
    "    \n",
    "    return tuple_text\n",
    "    \n",
    "def make_training_and_dev_data(all_data):\n",
    "    random.shuffle(all_data)\n",
    "    # Make this number ridiculously high for out test\n",
    "    training_ratio = .999\n",
    "    return all_data[:int(len(all_data) * training_ratio)], all_data[int(len(all_data) * training_ratio):]\n",
    "\n",
    "\n",
    "official_data = csv_to_array('yelp_data_official_training.csv')\n",
    "\n",
    "for garbage in official_data:\n",
    "    if garbage[1].isdigit() is False:\n",
    "        print(garbage[1])\n",
    "        break\n",
    "\n",
    "training_data, dev_data = make_training_and_dev_data(official_data)"
   ]
  },
  {
   "cell_type": "code",
   "execution_count": null,
   "metadata": {
    "collapsed": false
   },
   "outputs": [],
   "source": []
  },
  {
   "cell_type": "code",
   "execution_count": 56,
   "metadata": {
    "collapsed": false
   },
   "outputs": [],
   "source": [
    "def reviews(data):\n",
    "    reviews = []\n",
    "    for i in range(len(data)):\n",
    "        reviews.append(data[i][0])\n",
    "    return reviews\n",
    "\n",
    "def labels(data):\n",
    "    reviews = []\n",
    "    for i in range(len(data)):\n",
    "        reviews.append(int(data[i][1]))\n",
    "    return reviews\n",
    "\n",
    "reviews_training = reviews(training_data)\n",
    "label_training = labels(training_data)\n",
    "reviews_dev = reviews(dev_data)\n",
    "label_dev = labels(dev_data)"
   ]
  },
  {
   "cell_type": "code",
   "execution_count": 57,
   "metadata": {
    "collapsed": false
   },
   "outputs": [
    {
     "data": {
      "text/plain": [
       "(47952, 95578)"
      ]
     },
     "execution_count": 57,
     "metadata": {},
     "output_type": "execute_result"
    }
   ],
   "source": [
    "from sklearn.feature_extraction.text import CountVectorizer\n",
    "count_vect = CountVectorizer()\n",
    "X_train_counts = count_vect.fit_transform(reviews_training)\n",
    "X_train_counts.shape\n",
    "\n",
    "from sklearn.feature_extraction.text import TfidfTransformer\n",
    "tf_transformer = TfidfTransformer(use_idf=False).fit(X_train_counts)\n",
    "X_train_tf = tf_transformer.transform(X_train_counts)\n",
    "X_train_tf.shape"
   ]
  },
  {
   "cell_type": "markdown",
   "metadata": {},
   "source": [
    "<h3>Naive Bayes Pipeline</h3>"
   ]
  },
  {
   "cell_type": "code",
   "execution_count": 58,
   "metadata": {
    "collapsed": false
   },
   "outputs": [
    {
     "data": {
      "text/plain": [
       "0.7142857142857143"
      ]
     },
     "execution_count": 58,
     "metadata": {},
     "output_type": "execute_result"
    }
   ],
   "source": [
    "import numpy as np\n",
    "from sklearn.pipeline import Pipeline\n",
    "\n",
    "from sklearn.naive_bayes import MultinomialNB\n",
    "\n",
    "text_clf_mnb = Pipeline([('vect', CountVectorizer()),\n",
    "                     ('tfidf', TfidfTransformer()),\n",
    "                     ('clf', MultinomialNB()),])\n",
    "\n",
    "text_clf_mnb = text_clf_mnb.fit(reviews_training, label_training)\n",
    "predicted_mnb = text_clf_mnb.predict(reviews_dev)\n",
    "np.mean(predicted_mnb == label_dev)"
   ]
  },
  {
   "cell_type": "markdown",
   "metadata": {},
   "source": [
    "<h3>SVM Pipeline</h3>"
   ]
  },
  {
   "cell_type": "code",
   "execution_count": 67,
   "metadata": {
    "collapsed": false
   },
   "outputs": [
    {
     "data": {
      "text/plain": [
       "0.81632653061224492"
      ]
     },
     "execution_count": 67,
     "metadata": {},
     "output_type": "execute_result"
    }
   ],
   "source": [
    "# Thanks to the Sklearn documentation for helping us with a lot of this code\n",
    "# http://scikit-learn.org/stable/tutorial/text_analytics/working_with_text_data.html\n",
    "\n",
    "from sklearn.linear_model import SGDClassifier\n",
    "svm_classifier = SGDClassifier(loss='hinge',\n",
    "                               penalty='l2',\n",
    "                               alpha=1e-3,\n",
    "                               n_iter=10,\n",
    "                               random_state=42)\n",
    "text_clf_svm = Pipeline([('vect', CountVectorizer(ngram_range=(1, 3), max_df=0.9, binary=True, min_df=2, stop_words='english')),\n",
    "#                      ('tfidf', TfidfTransformer()), \n",
    "                     ('clf', svm_classifier),])\n",
    "text_clf_svm = text_clf_svm.fit(reviews_training, label_training)\n",
    "predicted_svm = text_clf_svm.predict(reviews_dev)\n",
    "np.mean(predicted_svm == label_dev)"
   ]
  },
  {
   "cell_type": "markdown",
   "metadata": {},
   "source": [
    "<h3>Load Test Data</h3>"
   ]
  },
  {
   "cell_type": "code",
   "execution_count": 60,
   "metadata": {
    "collapsed": false
   },
   "outputs": [],
   "source": [
    "import re\n",
    "\n",
    "def test_file_to_array(filename):\n",
    "    file = open(filename, 'r')\n",
    "    file_text = file.read()\n",
    "    # Skip the first one because it's the header starter garbage\n",
    "    split_text = re.split('\\d+\\|', file_text)[1:]\n",
    "    tupled_text = []\n",
    "    for i in range(len(split_text)):\n",
    "        tupled_text.append((split_text[i], i))        \n",
    "    return tupled_text\n",
    "\n",
    "test_array = test_file_to_array('yelp_data_official_test_nocategories.csv')"
   ]
  },
  {
   "cell_type": "markdown",
   "metadata": {},
   "source": [
    "<h3>Make Test Predictions For All Models</h3>"
   ]
  },
  {
   "cell_type": "code",
   "execution_count": 61,
   "metadata": {
    "collapsed": true
   },
   "outputs": [],
   "source": [
    "def test_prediction(model):\n",
    "    output = []\n",
    "    test_reviews = []\n",
    "    test_id = []\n",
    "    \n",
    "    for i in test_array:\n",
    "        test_reviews.append(i[0])\n",
    "        test_id.append(i[1])\n",
    "        \n",
    "    if str(model) == 'svm':\n",
    "        predicted = text_clf_svm.predict(test_reviews)\n",
    "        \n",
    "    elif model == 'mnb':\n",
    "        predicted = text_clf_mnb.predict(test_reviews)\n",
    "        \n",
    "    for i in range(0,len(predicted)):\n",
    "        output.append((int(i),predicted[i]))\n",
    "    \n",
    "    return output\n",
    "\n",
    "output_mnb = test_prediction('mnb')\n",
    "output_svm = test_prediction('svm')"
   ]
  },
  {
   "cell_type": "markdown",
   "metadata": {},
   "source": [
    "<h3>Write Output to CSV: Specify Model</h3>"
   ]
  },
  {
   "cell_type": "code",
   "execution_count": 62,
   "metadata": {
    "collapsed": false
   },
   "outputs": [],
   "source": [
    "def write_output_to_csv(output, filename):\n",
    "    file = open(filename, 'w')\n",
    "    file.write('Id' + ',' + 'Category' + '\\n' )\n",
    "    if str(output) == str(output_mnb):\n",
    "        for item in output_mnb:\n",
    "            file.write(str(item[0]) + ',' + str(item[1]) + '\\n')\n",
    "    elif str(output) == str(output_svm):\n",
    "        for item in output_svm:\n",
    "            file.write(str(item[0]) + ',' + str(item[1]) + '\\n')\n",
    "\n",
    "write_output_to_csv(output_svm, 'kegel_boys_7.csv')"
   ]
  },
  {
   "cell_type": "markdown",
   "metadata": {},
   "source": [
    "<h3>Classification Report and Confustion Matrix</h3>"
   ]
  },
  {
   "cell_type": "code",
   "execution_count": 63,
   "metadata": {
    "collapsed": false,
    "scrolled": true
   },
   "outputs": [
    {
     "name": "stdout",
     "output_type": "stream",
     "text": [
      "--------SVM-------\n",
      "\n",
      "             precision    recall  f1-score   support\n",
      "\n",
      "          1       1.00      0.88      0.94        17\n",
      "          2       0.89      0.89      0.89         9\n",
      "          3       0.85      1.00      0.92        11\n",
      "          4       0.80      1.00      0.89         4\n",
      "          5       0.83      0.83      0.83         6\n",
      "          6       1.00      0.50      0.67         2\n",
      "\n",
      "avg / total       0.91      0.90      0.90        49\n",
      "\n",
      "\n",
      "--------MNB-------\n",
      "\n",
      "             precision    recall  f1-score   support\n",
      "\n",
      "          1       0.67      0.94      0.78        17\n",
      "          2       1.00      0.67      0.80         9\n",
      "          3       0.62      0.91      0.74        11\n",
      "          4       1.00      0.75      0.86         4\n",
      "          5       0.00      0.00      0.00         6\n",
      "          6       0.00      0.00      0.00         2\n",
      "\n",
      "avg / total       0.64      0.71      0.65        49\n",
      "\n",
      "\n"
     ]
    },
    {
     "name": "stderr",
     "output_type": "stream",
     "text": [
      "/Users/gabe/anaconda/lib/python3.5/site-packages/sklearn/metrics/classification.py:1074: UndefinedMetricWarning: Precision and F-score are ill-defined and being set to 0.0 in labels with no predicted samples.\n",
      "  'precision', 'predicted', average, warn_for)\n"
     ]
    }
   ],
   "source": [
    "from sklearn import metrics\n",
    "print('--------SVM-------' + '\\n')\n",
    "print(metrics.classification_report(label_dev, predicted_svm)+ '\\n')\n",
    "print('--------MNB-------' + '\\n')\n",
    "print(metrics.classification_report(label_dev, predicted_mnb)+ '\\n')"
   ]
  },
  {
   "cell_type": "code",
   "execution_count": 64,
   "metadata": {
    "collapsed": false
   },
   "outputs": [
    {
     "name": "stdout",
     "output_type": "stream",
     "text": [
      "--------SVM-------\n",
      "\n",
      "[[15  1  1  0  0  0]\n",
      " [ 0  8  0  0  1  0]\n",
      " [ 0  0 11  0  0  0]\n",
      " [ 0  0  0  4  0  0]\n",
      " [ 0  0  1  0  5  0]\n",
      " [ 0  0  0  1  0  1]] \n",
      "\n"
     ]
    }
   ],
   "source": [
    "print('--------SVM-------' + '\\n')\n",
    "print(metrics.confusion_matrix(label_dev, predicted_svm),'\\n')\n",
    "# print('--------MNB-------' + '\\n')\n",
    "# print(metrics.confusion_matrix(label_dev, predicted_mnb),'\\n')"
   ]
  },
  {
   "cell_type": "markdown",
   "metadata": {},
   "source": [
    "<h3>Dot Product of Result Sets (Not sure if useful)</h3>"
   ]
  },
  {
   "cell_type": "code",
   "execution_count": 65,
   "metadata": {
    "collapsed": false
   },
   "outputs": [
    {
     "name": "stdout",
     "output_type": "stream",
     "text": [
      "[1, 1, 1, 1, 1, 1, 3, 3, 3, 3, 3, 3, 3, 3, 3, 5, 3, 5, 3, 3]\n",
      "[4, 4, 3, 1, 4, 4, 3, 3, 3, 3, 3, 3, 3, 3, 3, 5, 6, 5, 5, 5]\n"
     ]
    },
    {
     "data": {
      "text/plain": [
       "67216"
      ]
     },
     "execution_count": 65,
     "metadata": {},
     "output_type": "execute_result"
    }
   ],
   "source": [
    "mnb = [int(i[1]) for i in output_mnb]\n",
    "svm = [int(i[1]) for i in output_svm]\n",
    "print(mnb[190:210])\n",
    "print(svm[190:210])\n",
    "np.inner(svm,mnb)"
   ]
  },
  {
   "cell_type": "markdown",
   "metadata": {
    "collapsed": true
   },
   "source": [
    "<h3>Let's look at our mistakes</h3>"
   ]
  },
  {
   "cell_type": "code",
   "execution_count": 66,
   "metadata": {
    "collapsed": false
   },
   "outputs": [
    {
     "name": "stdout",
     "output_type": "stream",
     "text": [
      "Regis Salon will give you a very personable and exceptional experience. Everyone will remember you and will always serve to give you the best hair cut, style, and color. They also wax eyebrows, and actually listen to you. You say not too thin, they won't do it thin. You say only cut a trim, they only cut a trim. I'm picky with my hair, and only trust a few people, everyone here I can trust although I do personally love Giti here.\n",
      "47464 4 6\n",
      "Mike did a fantastic job of helping me find everything I needed to care for my newly remodeled pebble tech pool. He was courteous and I enjoyed working with him. He guided me and best buys in the store, while maintaining supplies with great quality. I have always and will always continue to patronize their store.\n",
      "7258 5 2\n",
      "When you need the best gates, security doors, artistic iron decor or cool ideas, stop here!!! These guys are AWESOME!!! Good family business!!! They welcomed and helped us when we moved in to the neighborhood!\n",
      "34226 3 5\n",
      "\"I've read some of these reviews. I agree, I'm usually pretty simple, do a good job on dry cleaning, have decent customer service and be reliable. The dry cleaning here is good. But they aren't reliable. Multiple times I've come during their posted open times and they've been inexplicably closed. Today, for example, we went there at 10:55am and they were closed. The posted hours show 9:30am open... \n",
      "\n",
      "There's one young man who works there that I get very blah and borderline curt/short customer service from. He truly comes across as if he could care less, and it shows. I'd rather go to the cleaner next to Harris Teeter, a block away.\"\n",
      "1691 3 1\n",
      "I recently moved to AZ and of course a good hair stylist is often hard to find.   I have very curly hair and have had my hair straightened for the past 10 years.    I did my research to find a salon that was experienced in the Japanese hair straightening.    This is how I found Bravo, and Elena!    I could not be happier with my hair.   Elena is awesome with straightening, coloring and will never do anything that she believes would jeopardize the health of your hair.   She continually seeks further education to keep on the cutting edge of her profession!    Elena and her team at Bravo have a new fan in me!!\n",
      "22268 2 1\n"
     ]
    }
   ],
   "source": [
    "for i in range(0,len(predicted_svm)):\n",
    "    if predicted_svm[i] != label_dev[i]:\n",
    "        print(reviews_training[i],predicted_svm[i],label_dev[i])"
   ]
  }
 ],
 "metadata": {
  "anaconda-cloud": {},
  "kernelspec": {
   "display_name": "Python [Root]",
   "language": "python",
   "name": "Python [Root]"
  },
  "language_info": {
   "codemirror_mode": {
    "name": "ipython",
    "version": 3
   },
   "file_extension": ".py",
   "mimetype": "text/x-python",
   "name": "python",
   "nbconvert_exporter": "python",
   "pygments_lexer": "ipython3",
   "version": "3.5.2"
  }
 },
 "nbformat": 4,
 "nbformat_minor": 0
}
